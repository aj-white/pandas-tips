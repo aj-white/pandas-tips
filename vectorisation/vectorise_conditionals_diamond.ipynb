{
 "cells": [
  {
   "cell_type": "code",
   "execution_count": 1,
   "id": "961420a9-122a-45ad-bd88-c3ef8f1a9705",
   "metadata": {},
   "outputs": [],
   "source": [
    "import numpy as np\n",
    "import pandas as pd\n",
    "import seaborn as sns"
   ]
  },
  {
   "cell_type": "code",
   "execution_count": 4,
   "id": "08c46b3f-6e90-47d2-9e21-178d97a45c60",
   "metadata": {},
   "outputs": [],
   "source": [
    "df = sns.load_dataset(\"diamonds\")"
   ]
  },
  {
   "cell_type": "markdown",
   "id": "c9ca09dc-9463-44d9-b28e-97c3146bd018",
   "metadata": {},
   "source": [
    "### Explore data"
   ]
  },
  {
   "cell_type": "code",
   "execution_count": 20,
   "id": "9d08fe4b-5f65-4be6-b79a-2991cf716b0d",
   "metadata": {},
   "outputs": [
    {
     "data": {
      "text/html": [
       "<div>\n",
       "<style scoped>\n",
       "    .dataframe tbody tr th:only-of-type {\n",
       "        vertical-align: middle;\n",
       "    }\n",
       "\n",
       "    .dataframe tbody tr th {\n",
       "        vertical-align: top;\n",
       "    }\n",
       "\n",
       "    .dataframe thead th {\n",
       "        text-align: right;\n",
       "    }\n",
       "</style>\n",
       "<table border=\"1\" class=\"dataframe\">\n",
       "  <thead>\n",
       "    <tr style=\"text-align: right;\">\n",
       "      <th></th>\n",
       "      <th>carat</th>\n",
       "      <th>cut</th>\n",
       "      <th>color</th>\n",
       "      <th>clarity</th>\n",
       "      <th>depth</th>\n",
       "      <th>table</th>\n",
       "      <th>price</th>\n",
       "      <th>x</th>\n",
       "      <th>y</th>\n",
       "      <th>z</th>\n",
       "      <th>price_cat_loop</th>\n",
       "    </tr>\n",
       "  </thead>\n",
       "  <tbody>\n",
       "    <tr>\n",
       "      <th>0</th>\n",
       "      <td>0.23</td>\n",
       "      <td>Ideal</td>\n",
       "      <td>E</td>\n",
       "      <td>SI2</td>\n",
       "      <td>61.5</td>\n",
       "      <td>55.0</td>\n",
       "      <td>326</td>\n",
       "      <td>3.95</td>\n",
       "      <td>3.98</td>\n",
       "      <td>2.43</td>\n",
       "      <td>cheap</td>\n",
       "    </tr>\n",
       "    <tr>\n",
       "      <th>1</th>\n",
       "      <td>0.21</td>\n",
       "      <td>Premium</td>\n",
       "      <td>E</td>\n",
       "      <td>SI1</td>\n",
       "      <td>59.8</td>\n",
       "      <td>61.0</td>\n",
       "      <td>326</td>\n",
       "      <td>3.89</td>\n",
       "      <td>3.84</td>\n",
       "      <td>2.31</td>\n",
       "      <td>cheap</td>\n",
       "    </tr>\n",
       "    <tr>\n",
       "      <th>2</th>\n",
       "      <td>0.23</td>\n",
       "      <td>Good</td>\n",
       "      <td>E</td>\n",
       "      <td>VS1</td>\n",
       "      <td>56.9</td>\n",
       "      <td>65.0</td>\n",
       "      <td>327</td>\n",
       "      <td>4.05</td>\n",
       "      <td>4.07</td>\n",
       "      <td>2.31</td>\n",
       "      <td>cheap</td>\n",
       "    </tr>\n",
       "    <tr>\n",
       "      <th>3</th>\n",
       "      <td>0.29</td>\n",
       "      <td>Premium</td>\n",
       "      <td>I</td>\n",
       "      <td>VS2</td>\n",
       "      <td>62.4</td>\n",
       "      <td>58.0</td>\n",
       "      <td>334</td>\n",
       "      <td>4.20</td>\n",
       "      <td>4.23</td>\n",
       "      <td>2.63</td>\n",
       "      <td>cheap</td>\n",
       "    </tr>\n",
       "    <tr>\n",
       "      <th>4</th>\n",
       "      <td>0.31</td>\n",
       "      <td>Good</td>\n",
       "      <td>J</td>\n",
       "      <td>SI2</td>\n",
       "      <td>63.3</td>\n",
       "      <td>58.0</td>\n",
       "      <td>335</td>\n",
       "      <td>4.34</td>\n",
       "      <td>4.35</td>\n",
       "      <td>2.75</td>\n",
       "      <td>cheap</td>\n",
       "    </tr>\n",
       "  </tbody>\n",
       "</table>\n",
       "</div>"
      ],
      "text/plain": [
       "   carat      cut color clarity  depth  table  price     x     y     z  \\\n",
       "0   0.23    Ideal     E     SI2   61.5   55.0    326  3.95  3.98  2.43   \n",
       "1   0.21  Premium     E     SI1   59.8   61.0    326  3.89  3.84  2.31   \n",
       "2   0.23     Good     E     VS1   56.9   65.0    327  4.05  4.07  2.31   \n",
       "3   0.29  Premium     I     VS2   62.4   58.0    334  4.20  4.23  2.63   \n",
       "4   0.31     Good     J     SI2   63.3   58.0    335  4.34  4.35  2.75   \n",
       "\n",
       "  price_cat_loop  \n",
       "0          cheap  \n",
       "1          cheap  \n",
       "2          cheap  \n",
       "3          cheap  \n",
       "4          cheap  "
      ]
     },
     "execution_count": 20,
     "metadata": {},
     "output_type": "execute_result"
    }
   ],
   "source": [
    "df.head()"
   ]
  },
  {
   "cell_type": "code",
   "execution_count": 6,
   "id": "d59809d6-b2f3-4690-b3dd-afcbe46a2d77",
   "metadata": {},
   "outputs": [
    {
     "name": "stdout",
     "output_type": "stream",
     "text": [
      "<class 'pandas.core.frame.DataFrame'>\n",
      "RangeIndex: 53940 entries, 0 to 53939\n",
      "Data columns (total 10 columns):\n",
      " #   Column   Non-Null Count  Dtype   \n",
      "---  ------   --------------  -----   \n",
      " 0   carat    53940 non-null  float64 \n",
      " 1   cut      53940 non-null  category\n",
      " 2   color    53940 non-null  category\n",
      " 3   clarity  53940 non-null  category\n",
      " 4   depth    53940 non-null  float64 \n",
      " 5   table    53940 non-null  float64 \n",
      " 6   price    53940 non-null  int64   \n",
      " 7   x        53940 non-null  float64 \n",
      " 8   y        53940 non-null  float64 \n",
      " 9   z        53940 non-null  float64 \n",
      "dtypes: category(3), float64(6), int64(1)\n",
      "memory usage: 3.0 MB\n"
     ]
    }
   ],
   "source": [
    "df.info()"
   ]
  },
  {
   "cell_type": "code",
   "execution_count": 7,
   "id": "ab8f3625-35d2-45d7-a6a6-60b11ea366f7",
   "metadata": {},
   "outputs": [
    {
     "data": {
      "text/html": [
       "<div>\n",
       "<style scoped>\n",
       "    .dataframe tbody tr th:only-of-type {\n",
       "        vertical-align: middle;\n",
       "    }\n",
       "\n",
       "    .dataframe tbody tr th {\n",
       "        vertical-align: top;\n",
       "    }\n",
       "\n",
       "    .dataframe thead th {\n",
       "        text-align: right;\n",
       "    }\n",
       "</style>\n",
       "<table border=\"1\" class=\"dataframe\">\n",
       "  <thead>\n",
       "    <tr style=\"text-align: right;\">\n",
       "      <th></th>\n",
       "      <th>carat</th>\n",
       "      <th>depth</th>\n",
       "      <th>table</th>\n",
       "      <th>price</th>\n",
       "      <th>x</th>\n",
       "      <th>y</th>\n",
       "      <th>z</th>\n",
       "    </tr>\n",
       "  </thead>\n",
       "  <tbody>\n",
       "    <tr>\n",
       "      <th>count</th>\n",
       "      <td>53940.000000</td>\n",
       "      <td>53940.000000</td>\n",
       "      <td>53940.000000</td>\n",
       "      <td>53940.000000</td>\n",
       "      <td>53940.000000</td>\n",
       "      <td>53940.000000</td>\n",
       "      <td>53940.000000</td>\n",
       "    </tr>\n",
       "    <tr>\n",
       "      <th>mean</th>\n",
       "      <td>0.797940</td>\n",
       "      <td>61.749405</td>\n",
       "      <td>57.457184</td>\n",
       "      <td>3932.799722</td>\n",
       "      <td>5.731157</td>\n",
       "      <td>5.734526</td>\n",
       "      <td>3.538734</td>\n",
       "    </tr>\n",
       "    <tr>\n",
       "      <th>std</th>\n",
       "      <td>0.474011</td>\n",
       "      <td>1.432621</td>\n",
       "      <td>2.234491</td>\n",
       "      <td>3989.439738</td>\n",
       "      <td>1.121761</td>\n",
       "      <td>1.142135</td>\n",
       "      <td>0.705699</td>\n",
       "    </tr>\n",
       "    <tr>\n",
       "      <th>min</th>\n",
       "      <td>0.200000</td>\n",
       "      <td>43.000000</td>\n",
       "      <td>43.000000</td>\n",
       "      <td>326.000000</td>\n",
       "      <td>0.000000</td>\n",
       "      <td>0.000000</td>\n",
       "      <td>0.000000</td>\n",
       "    </tr>\n",
       "    <tr>\n",
       "      <th>25%</th>\n",
       "      <td>0.400000</td>\n",
       "      <td>61.000000</td>\n",
       "      <td>56.000000</td>\n",
       "      <td>950.000000</td>\n",
       "      <td>4.710000</td>\n",
       "      <td>4.720000</td>\n",
       "      <td>2.910000</td>\n",
       "    </tr>\n",
       "    <tr>\n",
       "      <th>50%</th>\n",
       "      <td>0.700000</td>\n",
       "      <td>61.800000</td>\n",
       "      <td>57.000000</td>\n",
       "      <td>2401.000000</td>\n",
       "      <td>5.700000</td>\n",
       "      <td>5.710000</td>\n",
       "      <td>3.530000</td>\n",
       "    </tr>\n",
       "    <tr>\n",
       "      <th>75%</th>\n",
       "      <td>1.040000</td>\n",
       "      <td>62.500000</td>\n",
       "      <td>59.000000</td>\n",
       "      <td>5324.250000</td>\n",
       "      <td>6.540000</td>\n",
       "      <td>6.540000</td>\n",
       "      <td>4.040000</td>\n",
       "    </tr>\n",
       "    <tr>\n",
       "      <th>max</th>\n",
       "      <td>5.010000</td>\n",
       "      <td>79.000000</td>\n",
       "      <td>95.000000</td>\n",
       "      <td>18823.000000</td>\n",
       "      <td>10.740000</td>\n",
       "      <td>58.900000</td>\n",
       "      <td>31.800000</td>\n",
       "    </tr>\n",
       "  </tbody>\n",
       "</table>\n",
       "</div>"
      ],
      "text/plain": [
       "              carat         depth         table         price             x  \\\n",
       "count  53940.000000  53940.000000  53940.000000  53940.000000  53940.000000   \n",
       "mean       0.797940     61.749405     57.457184   3932.799722      5.731157   \n",
       "std        0.474011      1.432621      2.234491   3989.439738      1.121761   \n",
       "min        0.200000     43.000000     43.000000    326.000000      0.000000   \n",
       "25%        0.400000     61.000000     56.000000    950.000000      4.710000   \n",
       "50%        0.700000     61.800000     57.000000   2401.000000      5.700000   \n",
       "75%        1.040000     62.500000     59.000000   5324.250000      6.540000   \n",
       "max        5.010000     79.000000     95.000000  18823.000000     10.740000   \n",
       "\n",
       "                  y             z  \n",
       "count  53940.000000  53940.000000  \n",
       "mean       5.734526      3.538734  \n",
       "std        1.142135      0.705699  \n",
       "min        0.000000      0.000000  \n",
       "25%        4.720000      2.910000  \n",
       "50%        5.710000      3.530000  \n",
       "75%        6.540000      4.040000  \n",
       "max       58.900000     31.800000  "
      ]
     },
     "execution_count": 7,
     "metadata": {},
     "output_type": "execute_result"
    }
   ],
   "source": [
    "df.describe()"
   ]
  },
  {
   "cell_type": "code",
   "execution_count": 9,
   "id": "f69de4a9-82ad-4662-a5bd-4777173ac570",
   "metadata": {},
   "outputs": [
    {
     "data": {
      "text/html": [
       "<div>\n",
       "<style scoped>\n",
       "    .dataframe tbody tr th:only-of-type {\n",
       "        vertical-align: middle;\n",
       "    }\n",
       "\n",
       "    .dataframe tbody tr th {\n",
       "        vertical-align: top;\n",
       "    }\n",
       "\n",
       "    .dataframe thead th {\n",
       "        text-align: right;\n",
       "    }\n",
       "</style>\n",
       "<table border=\"1\" class=\"dataframe\">\n",
       "  <thead>\n",
       "    <tr style=\"text-align: right;\">\n",
       "      <th></th>\n",
       "      <th>cut</th>\n",
       "      <th>color</th>\n",
       "      <th>clarity</th>\n",
       "    </tr>\n",
       "  </thead>\n",
       "  <tbody>\n",
       "    <tr>\n",
       "      <th>count</th>\n",
       "      <td>53940</td>\n",
       "      <td>53940</td>\n",
       "      <td>53940</td>\n",
       "    </tr>\n",
       "    <tr>\n",
       "      <th>unique</th>\n",
       "      <td>5</td>\n",
       "      <td>7</td>\n",
       "      <td>8</td>\n",
       "    </tr>\n",
       "    <tr>\n",
       "      <th>top</th>\n",
       "      <td>Ideal</td>\n",
       "      <td>G</td>\n",
       "      <td>SI1</td>\n",
       "    </tr>\n",
       "    <tr>\n",
       "      <th>freq</th>\n",
       "      <td>21551</td>\n",
       "      <td>11292</td>\n",
       "      <td>13065</td>\n",
       "    </tr>\n",
       "  </tbody>\n",
       "</table>\n",
       "</div>"
      ],
      "text/plain": [
       "          cut  color clarity\n",
       "count   53940  53940   53940\n",
       "unique      5      7       8\n",
       "top     Ideal      G     SI1\n",
       "freq    21551  11292   13065"
      ]
     },
     "execution_count": 9,
     "metadata": {},
     "output_type": "execute_result"
    }
   ],
   "source": [
    "df.describe(exclude=np.number)"
   ]
  },
  {
   "cell_type": "markdown",
   "id": "d5258004-dc60-4865-a82b-92bac9948c4c",
   "metadata": {},
   "source": [
    "### Task\n",
    "- Create a new column that categorises by price\n",
    "    - Categories: cheap, pricey, expensive, super_expensive\n",
    "     - Ranges: <500, 500-2500, 2500-10000, >10000"
   ]
  },
  {
   "cell_type": "markdown",
   "id": "69bb0619-7565-41c6-8797-5cfef6aa9ac0",
   "metadata": {},
   "source": [
    "### Define function"
   ]
  },
  {
   "cell_type": "code",
   "execution_count": 11,
   "id": "096e7107-e5ee-46f4-8b5d-016e8bbc07b6",
   "metadata": {},
   "outputs": [],
   "source": [
    "def classify_by_price(price):\n",
    "    if price < 500:\n",
    "        return \"cheap\"\n",
    "    elif 500 <= price < 2500:\n",
    "        return \"pricey\"\n",
    "    elif 2500 <= price < 10000:\n",
    "        return \"expensive\"\n",
    "    else:\n",
    "        return \"super_expensive\""
   ]
  },
  {
   "cell_type": "markdown",
   "id": "77b22c62-3775-473a-8290-cfb643ff1d8c",
   "metadata": {},
   "source": [
    "### Establish a base line"
   ]
  },
  {
   "cell_type": "markdown",
   "id": "203197b6-2f96-4e9f-b775-f09372a5b90a",
   "metadata": {},
   "source": [
    "#### Pure Python for loop\n",
    "- **Runtime = 7170 ms**"
   ]
  },
  {
   "cell_type": "code",
   "execution_count": 15,
   "id": "5aa03923-a337-4a19-a6d9-d05aa7f361b8",
   "metadata": {},
   "outputs": [
    {
     "name": "stdout",
     "output_type": "stream",
     "text": [
      "7.17 s ± 267 ms per loop (mean ± std. dev. of 7 runs, 1 loop each)\n"
     ]
    }
   ],
   "source": [
    "%%timeit\n",
    "class_list_loop = []\n",
    "for i in range(len(df)):\n",
    "    price = df.iloc[i][\"price\"]\n",
    "    class_list_loop.append(classify_by_price(price))\n",
    "\n",
    "df[\"price_cat_loop\"] = class_list_loop"
   ]
  },
  {
   "cell_type": "markdown",
   "id": "8796577a-bc87-47be-a328-ff38e4a6cd09",
   "metadata": {},
   "source": [
    "## Pure Python for loop replace .iloc or .at\n",
    "- **Runtime = 252 ms**"
   ]
  },
  {
   "cell_type": "code",
   "execution_count": 24,
   "id": "0c0d9c63-1337-4d31-8f7a-e188fd8561ae",
   "metadata": {},
   "outputs": [
    {
     "name": "stdout",
     "output_type": "stream",
     "text": [
      "252 ms ± 6.53 ms per loop (mean ± std. dev. of 7 runs, 1 loop each)\n"
     ]
    }
   ],
   "source": [
    "%%timeit\n",
    "class_list_loop_at = []\n",
    "for i in range(len(df)):\n",
    "    price = df.at[i, \"price\"]\n",
    "    class_list_loop_at.append(classify_by_price(price))\n",
    "\n",
    "df[\"price_cat_loop_at\"] = class_list_loop_at"
   ]
  },
  {
   "cell_type": "markdown",
   "id": "681e3a6d-50b4-4649-91eb-a76199b5bbb2",
   "metadata": {},
   "source": [
    "### Use iterrows()\n",
    "- **Runtime = 1960 ms**"
   ]
  },
  {
   "cell_type": "code",
   "execution_count": 26,
   "id": "7a3d9721-376c-4771-9593-5e6dc367f6e2",
   "metadata": {},
   "outputs": [
    {
     "name": "stdout",
     "output_type": "stream",
     "text": [
      "1.96 s ± 137 ms per loop (mean ± std. dev. of 7 runs, 1 loop each)\n"
     ]
    }
   ],
   "source": [
    "%%timeit\n",
    "class_list_iterrow = []\n",
    "for _, row in df.iterrows():\n",
    "    price = row[\"price\"]\n",
    "    class_list_iterrow.append(classify_by_price(price))\n",
    "\n",
    "df[\"price_cat_iterrow\"] = class_list_iterrow"
   ]
  },
  {
   "cell_type": "markdown",
   "id": "9062037f-24ef-4002-a696-5512623c5d4f",
   "metadata": {},
   "source": [
    "### Use itertuples()\n",
    "- **Runtime = 77.6 ms**"
   ]
  },
  {
   "cell_type": "code",
   "execution_count": 31,
   "id": "0a9c93bb-4064-4642-aa99-1473f9ff33c8",
   "metadata": {},
   "outputs": [
    {
     "name": "stdout",
     "output_type": "stream",
     "text": [
      "77.6 ms ± 3.67 ms per loop (mean ± std. dev. of 7 runs, 10 loops each)\n"
     ]
    }
   ],
   "source": [
    "%%timeit\n",
    "class_list_itertuple = []\n",
    "for tup in df.itertuples():\n",
    "    price = tup.price\n",
    "    class_list_itertuple.append(classify_by_price(price))\n",
    "\n",
    "df[\"price_cat_itertuple\"] = class_list_itertuple"
   ]
  },
  {
   "cell_type": "markdown",
   "id": "e8987103-cf23-407b-8ad7-eaa212215ec1",
   "metadata": {},
   "source": [
    "### Use apply()\n",
    "- **Runtime = 386 ms**"
   ]
  },
  {
   "cell_type": "code",
   "execution_count": 36,
   "id": "8ef4c1be-a683-4e6f-8a09-b2e53ab68baf",
   "metadata": {},
   "outputs": [
    {
     "name": "stdout",
     "output_type": "stream",
     "text": [
      "386 ms ± 20.6 ms per loop (mean ± std. dev. of 7 runs, 1 loop each)\n"
     ]
    }
   ],
   "source": [
    "%timeit df[\"price_cat_apply\"] = df.apply(lambda row: classify_by_price(row[\"price\"]), axis=1)"
   ]
  },
  {
   "cell_type": "markdown",
   "id": "1db00f95-334f-495e-851f-ccbf7b9714eb",
   "metadata": {},
   "source": [
    "### Use python list comprehension\n",
    "- **Runtime= 14.2 ms**"
   ]
  },
  {
   "cell_type": "code",
   "execution_count": 39,
   "id": "c0d379a5-6383-48f2-a0e8-f389f5dc1b9d",
   "metadata": {},
   "outputs": [
    {
     "name": "stdout",
     "output_type": "stream",
     "text": [
      "14.2 ms ± 251 µs per loop (mean ± std. dev. of 7 runs, 100 loops each)\n"
     ]
    }
   ],
   "source": [
    "%timeit df[\"price_cat_list_comp\"] = [classify_by_price(x) for x in df[\"price\"]]"
   ]
  },
  {
   "cell_type": "markdown",
   "id": "0ee1b1c6-a0ff-48dc-b1bb-0383107a7b03",
   "metadata": {},
   "source": [
    "### Use pandas map function\n",
    "- **Runtime = 14.4 ms**"
   ]
  },
  {
   "cell_type": "code",
   "execution_count": 44,
   "id": "f2f9016d-7c80-4f23-a00a-bd4b83904036",
   "metadata": {},
   "outputs": [
    {
     "name": "stdout",
     "output_type": "stream",
     "text": [
      "14.4 ms ± 595 µs per loop (mean ± std. dev. of 7 runs, 100 loops each)\n"
     ]
    }
   ],
   "source": [
    "%timeit df[\"price_cat_map\"] = df[\"price\"].map(classify_by_price)"
   ]
  },
  {
   "cell_type": "code",
   "execution_count": 43,
   "id": "f44d450b-515a-4e3f-af00-d87e5154d5ba",
   "metadata": {},
   "outputs": [
    {
     "data": {
      "text/html": [
       "<div>\n",
       "<style scoped>\n",
       "    .dataframe tbody tr th:only-of-type {\n",
       "        vertical-align: middle;\n",
       "    }\n",
       "\n",
       "    .dataframe tbody tr th {\n",
       "        vertical-align: top;\n",
       "    }\n",
       "\n",
       "    .dataframe thead th {\n",
       "        text-align: right;\n",
       "    }\n",
       "</style>\n",
       "<table border=\"1\" class=\"dataframe\">\n",
       "  <thead>\n",
       "    <tr style=\"text-align: right;\">\n",
       "      <th></th>\n",
       "      <th>carat</th>\n",
       "      <th>cut</th>\n",
       "      <th>color</th>\n",
       "      <th>clarity</th>\n",
       "      <th>depth</th>\n",
       "      <th>table</th>\n",
       "      <th>price</th>\n",
       "      <th>x</th>\n",
       "      <th>y</th>\n",
       "      <th>z</th>\n",
       "      <th>price_cat_loop</th>\n",
       "      <th>price_cat_loop_at</th>\n",
       "      <th>price_cat_iterrow</th>\n",
       "      <th>price_cat_itertuple</th>\n",
       "      <th>price_cat_apply</th>\n",
       "      <th>price_cat_list_comp</th>\n",
       "      <th>price_cat_map</th>\n",
       "    </tr>\n",
       "  </thead>\n",
       "  <tbody>\n",
       "    <tr>\n",
       "      <th>10660</th>\n",
       "      <td>1.20</td>\n",
       "      <td>Very Good</td>\n",
       "      <td>I</td>\n",
       "      <td>SI1</td>\n",
       "      <td>63.1</td>\n",
       "      <td>58.0</td>\n",
       "      <td>4838</td>\n",
       "      <td>6.72</td>\n",
       "      <td>6.66</td>\n",
       "      <td>4.22</td>\n",
       "      <td>expensive</td>\n",
       "      <td>expensive</td>\n",
       "      <td>expensive</td>\n",
       "      <td>expensive</td>\n",
       "      <td>expensive</td>\n",
       "      <td>expensive</td>\n",
       "      <td>expensive</td>\n",
       "    </tr>\n",
       "    <tr>\n",
       "      <th>15188</th>\n",
       "      <td>1.21</td>\n",
       "      <td>Premium</td>\n",
       "      <td>H</td>\n",
       "      <td>SI2</td>\n",
       "      <td>58.8</td>\n",
       "      <td>60.0</td>\n",
       "      <td>6098</td>\n",
       "      <td>6.99</td>\n",
       "      <td>6.95</td>\n",
       "      <td>4.10</td>\n",
       "      <td>expensive</td>\n",
       "      <td>expensive</td>\n",
       "      <td>expensive</td>\n",
       "      <td>expensive</td>\n",
       "      <td>expensive</td>\n",
       "      <td>expensive</td>\n",
       "      <td>expensive</td>\n",
       "    </tr>\n",
       "    <tr>\n",
       "      <th>28531</th>\n",
       "      <td>0.33</td>\n",
       "      <td>Ideal</td>\n",
       "      <td>I</td>\n",
       "      <td>IF</td>\n",
       "      <td>62.0</td>\n",
       "      <td>54.0</td>\n",
       "      <td>675</td>\n",
       "      <td>4.46</td>\n",
       "      <td>4.48</td>\n",
       "      <td>2.77</td>\n",
       "      <td>pricey</td>\n",
       "      <td>pricey</td>\n",
       "      <td>pricey</td>\n",
       "      <td>pricey</td>\n",
       "      <td>pricey</td>\n",
       "      <td>pricey</td>\n",
       "      <td>pricey</td>\n",
       "    </tr>\n",
       "    <tr>\n",
       "      <th>18912</th>\n",
       "      <td>1.10</td>\n",
       "      <td>Premium</td>\n",
       "      <td>F</td>\n",
       "      <td>VS1</td>\n",
       "      <td>60.9</td>\n",
       "      <td>61.0</td>\n",
       "      <td>7762</td>\n",
       "      <td>6.70</td>\n",
       "      <td>6.64</td>\n",
       "      <td>4.06</td>\n",
       "      <td>expensive</td>\n",
       "      <td>expensive</td>\n",
       "      <td>expensive</td>\n",
       "      <td>expensive</td>\n",
       "      <td>expensive</td>\n",
       "      <td>expensive</td>\n",
       "      <td>expensive</td>\n",
       "    </tr>\n",
       "    <tr>\n",
       "      <th>9682</th>\n",
       "      <td>1.00</td>\n",
       "      <td>Ideal</td>\n",
       "      <td>I</td>\n",
       "      <td>SI1</td>\n",
       "      <td>61.5</td>\n",
       "      <td>57.0</td>\n",
       "      <td>4649</td>\n",
       "      <td>6.39</td>\n",
       "      <td>6.43</td>\n",
       "      <td>3.94</td>\n",
       "      <td>expensive</td>\n",
       "      <td>expensive</td>\n",
       "      <td>expensive</td>\n",
       "      <td>expensive</td>\n",
       "      <td>expensive</td>\n",
       "      <td>expensive</td>\n",
       "      <td>expensive</td>\n",
       "    </tr>\n",
       "    <tr>\n",
       "      <th>49582</th>\n",
       "      <td>0.71</td>\n",
       "      <td>Very Good</td>\n",
       "      <td>F</td>\n",
       "      <td>SI2</td>\n",
       "      <td>59.2</td>\n",
       "      <td>60.0</td>\n",
       "      <td>2134</td>\n",
       "      <td>5.85</td>\n",
       "      <td>5.91</td>\n",
       "      <td>3.48</td>\n",
       "      <td>pricey</td>\n",
       "      <td>pricey</td>\n",
       "      <td>pricey</td>\n",
       "      <td>pricey</td>\n",
       "      <td>pricey</td>\n",
       "      <td>pricey</td>\n",
       "      <td>pricey</td>\n",
       "    </tr>\n",
       "    <tr>\n",
       "      <th>52325</th>\n",
       "      <td>0.70</td>\n",
       "      <td>Good</td>\n",
       "      <td>E</td>\n",
       "      <td>SI1</td>\n",
       "      <td>63.2</td>\n",
       "      <td>57.0</td>\n",
       "      <td>2496</td>\n",
       "      <td>5.61</td>\n",
       "      <td>5.63</td>\n",
       "      <td>3.55</td>\n",
       "      <td>pricey</td>\n",
       "      <td>pricey</td>\n",
       "      <td>pricey</td>\n",
       "      <td>pricey</td>\n",
       "      <td>pricey</td>\n",
       "      <td>pricey</td>\n",
       "      <td>pricey</td>\n",
       "    </tr>\n",
       "    <tr>\n",
       "      <th>27690</th>\n",
       "      <td>0.38</td>\n",
       "      <td>Ideal</td>\n",
       "      <td>I</td>\n",
       "      <td>VS2</td>\n",
       "      <td>60.5</td>\n",
       "      <td>56.0</td>\n",
       "      <td>648</td>\n",
       "      <td>4.71</td>\n",
       "      <td>4.74</td>\n",
       "      <td>2.85</td>\n",
       "      <td>pricey</td>\n",
       "      <td>pricey</td>\n",
       "      <td>pricey</td>\n",
       "      <td>pricey</td>\n",
       "      <td>pricey</td>\n",
       "      <td>pricey</td>\n",
       "      <td>pricey</td>\n",
       "    </tr>\n",
       "    <tr>\n",
       "      <th>8905</th>\n",
       "      <td>0.90</td>\n",
       "      <td>Ideal</td>\n",
       "      <td>I</td>\n",
       "      <td>VS1</td>\n",
       "      <td>60.9</td>\n",
       "      <td>60.0</td>\n",
       "      <td>4492</td>\n",
       "      <td>6.20</td>\n",
       "      <td>6.24</td>\n",
       "      <td>3.79</td>\n",
       "      <td>expensive</td>\n",
       "      <td>expensive</td>\n",
       "      <td>expensive</td>\n",
       "      <td>expensive</td>\n",
       "      <td>expensive</td>\n",
       "      <td>expensive</td>\n",
       "      <td>expensive</td>\n",
       "    </tr>\n",
       "    <tr>\n",
       "      <th>52255</th>\n",
       "      <td>0.70</td>\n",
       "      <td>Good</td>\n",
       "      <td>G</td>\n",
       "      <td>VS2</td>\n",
       "      <td>64.3</td>\n",
       "      <td>56.0</td>\n",
       "      <td>2488</td>\n",
       "      <td>5.51</td>\n",
       "      <td>5.58</td>\n",
       "      <td>3.57</td>\n",
       "      <td>pricey</td>\n",
       "      <td>pricey</td>\n",
       "      <td>pricey</td>\n",
       "      <td>pricey</td>\n",
       "      <td>pricey</td>\n",
       "      <td>pricey</td>\n",
       "      <td>pricey</td>\n",
       "    </tr>\n",
       "  </tbody>\n",
       "</table>\n",
       "</div>"
      ],
      "text/plain": [
       "       carat        cut color clarity  depth  table  price     x     y     z  \\\n",
       "10660   1.20  Very Good     I     SI1   63.1   58.0   4838  6.72  6.66  4.22   \n",
       "15188   1.21    Premium     H     SI2   58.8   60.0   6098  6.99  6.95  4.10   \n",
       "28531   0.33      Ideal     I      IF   62.0   54.0    675  4.46  4.48  2.77   \n",
       "18912   1.10    Premium     F     VS1   60.9   61.0   7762  6.70  6.64  4.06   \n",
       "9682    1.00      Ideal     I     SI1   61.5   57.0   4649  6.39  6.43  3.94   \n",
       "49582   0.71  Very Good     F     SI2   59.2   60.0   2134  5.85  5.91  3.48   \n",
       "52325   0.70       Good     E     SI1   63.2   57.0   2496  5.61  5.63  3.55   \n",
       "27690   0.38      Ideal     I     VS2   60.5   56.0    648  4.71  4.74  2.85   \n",
       "8905    0.90      Ideal     I     VS1   60.9   60.0   4492  6.20  6.24  3.79   \n",
       "52255   0.70       Good     G     VS2   64.3   56.0   2488  5.51  5.58  3.57   \n",
       "\n",
       "      price_cat_loop price_cat_loop_at price_cat_iterrow price_cat_itertuple  \\\n",
       "10660      expensive         expensive         expensive           expensive   \n",
       "15188      expensive         expensive         expensive           expensive   \n",
       "28531         pricey            pricey            pricey              pricey   \n",
       "18912      expensive         expensive         expensive           expensive   \n",
       "9682       expensive         expensive         expensive           expensive   \n",
       "49582         pricey            pricey            pricey              pricey   \n",
       "52325         pricey            pricey            pricey              pricey   \n",
       "27690         pricey            pricey            pricey              pricey   \n",
       "8905       expensive         expensive         expensive           expensive   \n",
       "52255         pricey            pricey            pricey              pricey   \n",
       "\n",
       "      price_cat_apply price_cat_list_comp price_cat_map  \n",
       "10660       expensive           expensive     expensive  \n",
       "15188       expensive           expensive     expensive  \n",
       "28531          pricey              pricey        pricey  \n",
       "18912       expensive           expensive     expensive  \n",
       "9682        expensive           expensive     expensive  \n",
       "49582          pricey              pricey        pricey  \n",
       "52325          pricey              pricey        pricey  \n",
       "27690          pricey              pricey        pricey  \n",
       "8905        expensive           expensive     expensive  \n",
       "52255          pricey              pricey        pricey  "
      ]
     },
     "execution_count": 43,
     "metadata": {},
     "output_type": "execute_result"
    }
   ],
   "source": [
    "df.sample(10)"
   ]
  }
 ],
 "metadata": {
  "kernelspec": {
   "display_name": "ml-boot",
   "language": "python",
   "name": "ml-boot"
  },
  "language_info": {
   "codemirror_mode": {
    "name": "ipython",
    "version": 3
   },
   "file_extension": ".py",
   "mimetype": "text/x-python",
   "name": "python",
   "nbconvert_exporter": "python",
   "pygments_lexer": "ipython3",
   "version": "3.9.6"
  }
 },
 "nbformat": 4,
 "nbformat_minor": 5
}
